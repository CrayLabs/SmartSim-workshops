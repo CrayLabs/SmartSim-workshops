{
 "cells": [
  {
   "cell_type": "markdown",
   "id": "4061d9f5-cdfc-4396-bc7d-eaecb9472558",
   "metadata": {},
   "source": [
    "# SmartSim 101\n",
    "In this notebook you will set up a SmartSim experiment consisting of an `Orchestrator` (a wrapper around Redis DB) and one simulation. The simulation is [John Burkardt's](https://people.sc.fsu.edu/~jburkardt/) Finite-Difference solution of the time-independent heat equation (see the `README.md` file of this repo for more details).\n",
    "\n",
    "## Some important references\n",
    "\n",
    "Both SmartSim and SmartRedis have online documentation, combined into one single website. As they are actively developed, you will need to pick the correct version of the docs.\n",
    "\n",
    "- if you `pip install`ed SmartSim (and the SmartRedis Python client), then you will want to look into [this version of the documentation](https://www.craylabs.org/docs/overview.html).\n",
    "- if you built from source, then you will need [this version of the documentation](https://www.craylabs.org/develop/overview.html)\n",
    "\n",
    "They will be useful especially when you will modify the simulation code, as they contain basic examples which cover all the material of this notebook.\n",
    "\n",
    "## Setup - some options to set\n",
    "As first step, we import some libraries which will be useful."
   ]
  },
  {
   "cell_type": "code",
   "execution_count": null,
   "id": "786ac1b8-d35d-4130-9d6d-88e26ade56b3",
   "metadata": {
    "tags": []
   },
   "outputs": [],
   "source": [
    "%matplotlib inline\n",
    "\n",
    "import matplotlib.pyplot as plt\n",
    "from matplotlib import cm\n",
    "import numpy as np\n"
   ]
  },
  {
   "cell_type": "markdown",
   "id": "daa15e2a-8ae2-423e-bf0a-975873e92347",
   "metadata": {},
   "source": [
    "Now you can decide what implementation of the simulation you want to instrument. Just set `language` to one out of `cpp` (for C++), `c` (for C), `python`, and `fortran`. Then, depending the system you are running on, you will need to pick a launcher. If you are on `swan`, then pick `pbs`. On other clusters or supercomputers, you might want to pick `slurm`. Finally, if you are running this on your own machine (laptop or desktop), just select `local`. A couple other parameters will be set for you based on these choices."
   ]
  },
  {
   "cell_type": "code",
   "execution_count": null,
   "id": "ba22487f-7bdc-44a5-ac76-3d20cdfce3b7",
   "metadata": {
    "tags": []
   },
   "outputs": [],
   "source": [
    "# Language options: c, cpp, fortran, python\n",
    "language = \"cpp\"\n",
    "\n",
    "assert language in [\"cpp\", \"python\", \"c\", \"fortran\"]\n",
    "lang_to_exe = {\n",
    "    \"cpp\": \"src/cpp/build/heat_steady\",\n",
    "    \"c\": \"src/c/build/heat_steady\",\n",
    "    \"fortran\": \"src/fortran/build/heat_steady\",\n",
    "    \"python\": \"python\",\n",
    "}\n",
    "exe = lang_to_exe[language]\n",
    "\n",
    "# Deployment options: local (laptop), pbs, slurm.\n",
    "launcher = \"slurm\"\n",
    "\n",
    "assert launcher in [\"pbs\", \"slurm\", \"local\"]\n",
    "\n",
    "launcher_to_if = {\"pbs\": \"ib0\", \"slurm\": \"ib0\", \"local\": \"lo\"}\n",
    "\n",
    "interface = launcher_to_if[launcher]\n"
   ]
  },
  {
   "cell_type": "markdown",
   "id": "4a7b9944-b87c-4e48-9a62-52df744fa83b",
   "metadata": {},
   "source": [
    "## Starting the Experiment\n",
    "\n",
    "SmartSim, the infrastructure library, is used here to launch the\n",
    "database and the simulation, but in separate processes.\n",
    "\n",
    "First, the necessary libraries are imported.\n",
    "\n",
    "The next line is your first task! You should create a SmartSim `Experiment` named `exp`, and as arguments you should set `heated_plate` as name, and `launcher=launcher` (we defined it above).\n",
    "\n",
    "In SmartSim, the `Experiment` contains all the entities you will launch and monitor. It is the most important class and has methods to create all most used parts of a workflow, such as `Model`s (which represents applications), DB, and so on."
   ]
  },
  {
   "cell_type": "code",
   "execution_count": null,
   "id": "253f9c3e-95c9-49ad-b2d4-4fa409aeb36f",
   "metadata": {
    "tags": []
   },
   "outputs": [],
   "source": [
    "from smartredis import Client\n",
    "from smartsim import Experiment\n",
    "\n",
    "# Initialize an Experiment with the local launcher\n",
    "# This will be the name of the output directory that holds\n",
    "# the output from our simulation and SmartSim\n",
    "exp = Experiment(\"heated_plate\", launcher=launcher)\n"
   ]
  },
  {
   "cell_type": "markdown",
   "id": "250008f1-29f9-4f2f-b356-f087c00b3446",
   "metadata": {},
   "source": [
    "OK, that was easy. Now something slightly more complex: you need to create the in-memory database on port `6780`, setting `interface=interface` (we defined this above too).\n",
    "Hint: the `Experiment` class has functions for creating the most used entities.\n",
    "After that, as you can see, the experiment will start the database. Wait for the cell to be executed and, if all went according to plan, you will see the address where the DB was started!"
   ]
  },
  {
   "cell_type": "code",
   "execution_count": null,
   "id": "38c45f55-e7a4-4141-a445-85a6158eb12b",
   "metadata": {
    "tags": []
   },
   "outputs": [],
   "source": [
    "# create an Orchestrator database reference,\n",
    "# generate its output directory, and launch it locally\n",
    "db = exp.create_database(port=6780, interface=interface)\n",
    "exp.generate(db, overwrite=True)\n",
    "exp.start(db)\n",
    "print(f\"Database started at address: {db.get_address()}\")\n"
   ]
  },
  {
   "cell_type": "markdown",
   "id": "9bd9ef13-ae00-4888-b81b-d059736a1c25",
   "metadata": {},
   "source": [
    "## Running an Ensemble of Simulations\n",
    "\n",
    "To run the simulation, `Experiment.create_run_settings` is used to define how the simulation should be executed. In our case, there is a slight difference between running with Python or with other languages, where we compiled the executable. Thus, we already created a list `exe_args` to hold the arguments for the Python case (it is empty otherwise). Python is also the only language for which we need to copy a file (the script) into the working directory... luckily, SmartSim does it for us.\n",
    "\n",
    "For the first run, you can leave `exe_args` as is. The simulation will run with default arguments. We'll modify this later.\n",
    "\n",
    "Now we get to the point where we create the `Model` for our simulation. Remember that the `Model` is SmartSim's view of the application. We just use an `Experiment` member function to create the model (should not be hard to guess it...) and we add the `run_settings` we have just created.\n"
   ]
  },
  {
   "cell_type": "code",
   "execution_count": null,
   "id": "537a1489-b4c3-4736-a628-b7af433a9cbf",
   "metadata": {
    "tags": []
   },
   "outputs": [],
   "source": [
    "# set simulation parameters we can pass as executable arguments\n",
    "exe_args = [\"fd2d_heat_steady.py\"] if language == \"python\" else []\n",
    "exe_args.extend([\"--nx=41\", \"--ny=21\"])\n",
    "# create \"run settings\" for the simulation which define how\n",
    "# the simulation will be executed when passed to Experiment.start()\n",
    "settings = exp.create_run_settings(exe,\n",
    "                                   exe_args=exe_args)\n",
    "settings.set_nodes(1)\n",
    "settings.set_tasks(1)\n",
    "\n",
    "model = exp.create_model(\"fd_simulation\", run_settings=settings)\n",
    "\n",
    "if language == \"python\":\n",
    "    model.attach_generator_files(to_copy=\"src/python/fd2d_heat_steady.py\")\n",
    "exp.generate(model, overwrite=True)\n"
   ]
  },
  {
   "cell_type": "markdown",
   "id": "925266c2-d014-4047-9a06-8c4657ddcfe5",
   "metadata": {},
   "source": [
    "Now let's start `model` and wait for the results! Use the function `Experiment.start` and make sure you set `block=True` and `summary=False`"
   ]
  },
  {
   "cell_type": "code",
   "execution_count": null,
   "id": "92584c2c",
   "metadata": {},
   "outputs": [],
   "source": []
  },
  {
   "cell_type": "code",
   "execution_count": null,
   "id": "8a2b2061-5de8-4039-a431-c895e0a8940b",
   "metadata": {
    "tags": []
   },
   "outputs": [],
   "source": [
    "exp.start(model, block=True, summary=False)\n"
   ]
  },
  {
   "cell_type": "markdown",
   "id": "bbb7d020-c809-4afd-b841-bd0e58998109",
   "metadata": {},
   "source": [
    "If everything worked, you will see that a directory named `heated_plate` has been created. That's where all the code is excuted, and output files are stored. You should be able to open the file named `heated_plate/fd_simulation/fd_simulation.out` and look at the output. It should report a mean value for $U$, which is the temperature field.\n",
    "\n",
    "But the simulation did not store the results on the DB! Why? Because we did not instrument the code to do so! This is the moment you've been waiting for! Open the source code for the language you picked (it will be in `src/<language>`) and look for the keyword `EXERCISE`. You will only need to modify one function.\n",
    "\n",
    "Hint: here is which file you should modify for each language:\n",
    "- C: `src/c/fd2d_heat_steady_test.c`\n",
    "- C++: `src/cpp/fd2d_heat_steady_test.cpp`\n",
    "- Fortran: `src/fortran/fd2d_heat_steadt_test.F90`\n",
    "- Python: `src/python/fd2d_heat_steady.py`\n",
    "\n",
    "If you are on `swan` need some time to work on the code, remember to exit the allocation (CTRL+D)... you will get one later!\n",
    "\n",
    "Once you get everything into place (and you build the code, if you are using a compiled language!), re-execute the two cells above. If the simulation completes, you are on the right track and the next section will help you check that everything went smoothly! Also, if the simulation fails, check if the database is still running (if you just restarted the notebook, it should)."
   ]
  },
  {
   "cell_type": "markdown",
   "id": "9fc14430-a7e0-4621-a86b-0d7fbd5aa97c",
   "metadata": {},
   "source": [
    "## Get the data and visualize it!\n",
    "\n",
    "In the next cell, you will get the data from the DB and visualize it. You will need two things: a SmartRedis `Client`, which you can initialize with the address you get from `db.get_address()[0]`, setting `cluster=False`, and three calls to get the tensors you have uploaded to the DB from the simulation. The visualization code comes from the original Python simulation code written by John Burkardt."
   ]
  },
  {
   "cell_type": "code",
   "execution_count": null,
   "id": "d3d4e8e9-5f7d-4084-b07f-c0c959160284",
   "metadata": {
    "tags": []
   },
   "outputs": [],
   "source": [
    "# Connect a SmartRedis client to retrieve data\n",
    "\n",
    "client = Client(address=db.get_address()[0], cluster=False)\n",
    "\n",
    "heat_steady_u = client.get_tensor(\"steady_state_u\")\n",
    "heat_steady_x = client.get_tensor(\"steady_state_x\")\n",
    "heat_steady_y = client.get_tensor(\"steady_state_y\")\n",
    "with plt.ion():\n",
    "    fig = plt.figure()\n",
    "    ax = fig.add_subplot(111, projection=\"3d\")\n",
    "    ax.plot_surface(\n",
    "        heat_steady_x,\n",
    "        heat_steady_y,\n",
    "        heat_steady_u,\n",
    "        cmap=cm.coolwarm,\n",
    "        linewidth=0,\n",
    "        antialiased=False,\n",
    "    )\n",
    "    ax.set_xlabel(\"<--- Y --->\")\n",
    "    ax.set_ylabel(\"<--- X --->\")\n",
    "    ax.set_zlabel(\"<---U(X,Y)--->\")\n",
    "    ax.set_title(\"Solution of steady heat equation\")\n",
    "    plt.draw()\n",
    "    plt.show(block=False)\n",
    "    plt.close()\n"
   ]
  },
  {
   "cell_type": "markdown",
   "id": "9440467c-756b-4cf3-afa9-bdf6f588abd3",
   "metadata": {},
   "source": [
    "As a last check, you can compute the mean value of `heat_steady_u` and compare it to what you find in the simulation output: they should match!"
   ]
  },
  {
   "cell_type": "code",
   "execution_count": null,
   "id": "aa6bb0bc-1a4b-4ee7-8b15-8a12e896d9d9",
   "metadata": {
    "tags": []
   },
   "outputs": [],
   "source": [
    "np.mean(heat_steady_u)\n"
   ]
  },
  {
   "cell_type": "markdown",
   "id": "08844f95-08ae-444c-ae6b-1a4561f6dff5",
   "metadata": {},
   "source": [
    "Congratulations, you've just run your first SmartSim-enhanced simulation! If you want, you can play around with the command line arguments which are available for the simulation... just go to the cell where you start the simulation and add them to `exec_args` like you would add them on the command line (e.g. `--<arg_name>=<arg_value>`)"
   ]
  },
  {
   "cell_type": "markdown",
   "id": "3d5256b1-fe16-4db3-9860-56732ff8f28b",
   "metadata": {},
   "source": [
    "Now let's do some clean up!"
   ]
  },
  {
   "cell_type": "code",
   "execution_count": null,
   "id": "7bbce88c-6f63-407a-8912-5787139f015b",
   "metadata": {
    "tags": []
   },
   "outputs": [],
   "source": [
    "# Optionally clear the database\n",
    "client.flush_db(db.get_address())\n"
   ]
  },
  {
   "cell_type": "code",
   "execution_count": null,
   "id": "7d9f2669-4efb-4f38-97e9-869a070ab79c",
   "metadata": {
    "tags": []
   },
   "outputs": [],
   "source": [
    "exp.stop(db)\n"
   ]
  },
  {
   "cell_type": "code",
   "execution_count": null,
   "id": "2bca8a25-6e1b-4540-9d1e-932eb52d7b1e",
   "metadata": {
    "tags": []
   },
   "outputs": [],
   "source": [
    "exp.get_status(model)\n"
   ]
  },
  {
   "cell_type": "markdown",
   "id": "e2973a97-a8b5-4672-82d8-b0971395b9de",
   "metadata": {},
   "source": [
    "We can also look at a summary of the executed entities."
   ]
  },
  {
   "cell_type": "code",
   "execution_count": null,
   "id": "50b42065-6356-4a5a-b742-daca17b8bd6e",
   "metadata": {
    "tags": []
   },
   "outputs": [],
   "source": [
    "exp.summary(format=\"html\")\n"
   ]
  }
 ],
 "metadata": {
  "kernelspec": {
   "display_name": "smartsim",
   "language": "python",
   "name": "python3"
  },
  "language_info": {
   "codemirror_mode": {
    "name": "ipython",
    "version": 3
   },
   "file_extension": ".py",
   "mimetype": "text/x-python",
   "name": "python",
   "nbconvert_exporter": "python",
   "pygments_lexer": "ipython3",
   "version": "3.8.8"
  },
  "vscode": {
   "interpreter": {
    "hash": "9639504f11de4ebd7ca514e9a01a397eedec06f6661854e40b3062e56d2dc39e"
   }
  }
 },
 "nbformat": 4,
 "nbformat_minor": 5
}
